{
 "cells": [
  {
   "cell_type": "markdown",
   "metadata": {},
   "source": [
    "# Tech Challenge - Fase 01\n",
    "\n",
    "A descrição do desafio está dentro do arquivo [README.md](README.md)."
   ]
  },
  {
   "cell_type": "markdown",
   "metadata": {},
   "source": [
    "### Bibliotecas\n",
    "\n",
    "Lista das bibliotecas utilizadas para o projeto."
   ]
  },
  {
   "cell_type": "code",
   "execution_count": 71,
   "metadata": {},
   "outputs": [],
   "source": [
    "# Para carregar e manipular os dados\n",
    "import pandas as pd\n",
    "import numpy as np\n",
    "\n",
    "# Para treinamento dos modelos\n",
    "from sklearn.linear_model import LinearRegression\n",
    "from sklearn.tree import DecisionTreeRegressor\n",
    "from sklearn.neighbors import KNeighborsRegressor\n",
    "from sklearn.ensemble import GradientBoostingRegressor\n",
    "from sklearn.ensemble import RandomForestRegressor\n",
    "from sklearn.model_selection import train_test_split\n",
    "from sklearn.model_selection import KFold\n",
    "from sklearn.pipeline import Pipeline\n",
    "\n",
    "# Para validação dos modelos\n",
    "from sklearn.metrics import root_mean_squared_error, mean_absolute_error, r2_score\n",
    "from sklearn.calibration import cross_val_predict\n",
    "from sklearn.model_selection import GridSearchCV\n",
    "\n",
    "# Para visualização\n",
    "import seaborn as sns\n",
    "import matplotlib.pyplot as plt\n",
    "\n",
    "# Para transformação dos dados\n",
    "from sklearn.preprocessing import LabelEncoder, OneHotEncoder\n",
    "from sklearn.preprocessing import StandardScaler, MinMaxScaler                             \n",
    "\n",
    "# Para salvar o modelo\n",
    "import pickle\n",
    "\n",
    "# Define configurações dos gráficos\n",
    "plt.style.use('ggplot')\n",
    "sns.set_style('darkgrid')"
   ]
  },
  {
   "cell_type": "markdown",
   "metadata": {},
   "source": [
    "### Vídeo explicativo\n",
    "\n",
    "Abaixo o link do vídeo onde o grupo explica o desenvolvimento do desafio.\n",
    "\n",
    "`COLOCAR O LINK AQUI`"
   ]
  },
  {
   "cell_type": "markdown",
   "metadata": {},
   "source": [
    "### Obtenção dos dados\n",
    "\n",
    "Foi feito uma pesquisa e encontramos um conjunto de dados de dados de [seguro de saúde](https://gist.github.com/meperezcuello/82a9f1c1c473d6585e750ad2e3c05a41).\n",
    "\n",
    "O arquivo foi salvo em [dados/insurance.csv](dados/insurance.csv).\n"
   ]
  },
  {
   "cell_type": "markdown",
   "metadata": {},
   "source": [
    "### Análise exploratória dos dados"
   ]
  },
  {
   "cell_type": "markdown",
   "metadata": {},
   "source": [
    "Dicionário de dados:\n",
    "\n",
    "- **age**: Variável que representa a idade da pessoa.\n",
    "- **sex**: Variável que representa o gênero da pessoa (Masculino ou Feminino).\n",
    "- **bmi**: Variável que representa o índice de massa corpórea (IMC) da pessoa.\n",
    "- **children**: Variável que representa a quantidade de filhos que a pessoa tem e que são cobertos pelo plano de saúde.\n",
    "- **smoker**: Variável que representa se a pessoa é fumante (Sim / Não).\n",
    "- **region**: Variável que representa a região onde a pessoa mora.\n",
    "- **charges**: Variável que representa o custo médico individual do plano."
   ]
  },
  {
   "cell_type": "code",
   "execution_count": 72,
   "metadata": {},
   "outputs": [
    {
     "data": {
      "text/html": [
       "<div>\n",
       "<style scoped>\n",
       "    .dataframe tbody tr th:only-of-type {\n",
       "        vertical-align: middle;\n",
       "    }\n",
       "\n",
       "    .dataframe tbody tr th {\n",
       "        vertical-align: top;\n",
       "    }\n",
       "\n",
       "    .dataframe thead th {\n",
       "        text-align: right;\n",
       "    }\n",
       "</style>\n",
       "<table border=\"1\" class=\"dataframe\">\n",
       "  <thead>\n",
       "    <tr style=\"text-align: right;\">\n",
       "      <th></th>\n",
       "      <th>age</th>\n",
       "      <th>sex</th>\n",
       "      <th>bmi</th>\n",
       "      <th>children</th>\n",
       "      <th>smoker</th>\n",
       "      <th>region</th>\n",
       "      <th>charges</th>\n",
       "    </tr>\n",
       "  </thead>\n",
       "  <tbody>\n",
       "    <tr>\n",
       "      <th>0</th>\n",
       "      <td>19</td>\n",
       "      <td>female</td>\n",
       "      <td>27.900</td>\n",
       "      <td>0</td>\n",
       "      <td>yes</td>\n",
       "      <td>southwest</td>\n",
       "      <td>16884.92400</td>\n",
       "    </tr>\n",
       "    <tr>\n",
       "      <th>1</th>\n",
       "      <td>18</td>\n",
       "      <td>male</td>\n",
       "      <td>33.770</td>\n",
       "      <td>1</td>\n",
       "      <td>no</td>\n",
       "      <td>southeast</td>\n",
       "      <td>1725.55230</td>\n",
       "    </tr>\n",
       "    <tr>\n",
       "      <th>2</th>\n",
       "      <td>28</td>\n",
       "      <td>male</td>\n",
       "      <td>33.000</td>\n",
       "      <td>3</td>\n",
       "      <td>no</td>\n",
       "      <td>southeast</td>\n",
       "      <td>4449.46200</td>\n",
       "    </tr>\n",
       "    <tr>\n",
       "      <th>3</th>\n",
       "      <td>33</td>\n",
       "      <td>male</td>\n",
       "      <td>22.705</td>\n",
       "      <td>0</td>\n",
       "      <td>no</td>\n",
       "      <td>northwest</td>\n",
       "      <td>21984.47061</td>\n",
       "    </tr>\n",
       "    <tr>\n",
       "      <th>4</th>\n",
       "      <td>32</td>\n",
       "      <td>male</td>\n",
       "      <td>28.880</td>\n",
       "      <td>0</td>\n",
       "      <td>no</td>\n",
       "      <td>northwest</td>\n",
       "      <td>3866.85520</td>\n",
       "    </tr>\n",
       "  </tbody>\n",
       "</table>\n",
       "</div>"
      ],
      "text/plain": [
       "   age     sex     bmi  children smoker     region      charges\n",
       "0   19  female  27.900         0    yes  southwest  16884.92400\n",
       "1   18    male  33.770         1     no  southeast   1725.55230\n",
       "2   28    male  33.000         3     no  southeast   4449.46200\n",
       "3   33    male  22.705         0     no  northwest  21984.47061\n",
       "4   32    male  28.880         0     no  northwest   3866.85520"
      ]
     },
     "execution_count": 72,
     "metadata": {},
     "output_type": "execute_result"
    }
   ],
   "source": [
    "# Carrega os dados\n",
    "df = pd.read_csv('dados/insurance.csv')\n",
    "\n",
    "# Lista das primeiras linhas\n",
    "df.head()"
   ]
  },
  {
   "cell_type": "markdown",
   "metadata": {},
   "source": [
    "O Dataset contém 1338 linhas e 7 colunas (variáveis)."
   ]
  },
  {
   "cell_type": "code",
   "execution_count": 73,
   "metadata": {},
   "outputs": [
    {
     "name": "stdout",
     "output_type": "stream",
     "text": [
      "Linhas: 1338\n",
      "Colunas: 7\n"
     ]
    }
   ],
   "source": [
    "# Verifica as dimensões do dataset\n",
    "print(f'Linhas: {df.shape[0]}')\n",
    "print(f'Colunas: {df.shape[1]}')"
   ]
  },
  {
   "cell_type": "markdown",
   "metadata": {},
   "source": [
    "O dataset possui colunas que precisam ser convertidas para números, como:\n",
    "- sex (variável do tipo inteiro)\n",
    "- smoker (variável do tipo object)\n",
    "- region (variável do tipo object)"
   ]
  },
  {
   "cell_type": "markdown",
   "metadata": {},
   "source": [
    "Verifica os tipos das colunas.\n",
    "\n",
    "Existem colunas do tipo \"object\" que vão precisar ser transformadas."
   ]
  },
  {
   "cell_type": "code",
   "execution_count": 74,
   "metadata": {},
   "outputs": [
    {
     "data": {
      "text/plain": [
       "age           int64\n",
       "sex          object\n",
       "bmi         float64\n",
       "children      int64\n",
       "smoker       object\n",
       "region       object\n",
       "charges     float64\n",
       "dtype: object"
      ]
     },
     "execution_count": 74,
     "metadata": {},
     "output_type": "execute_result"
    }
   ],
   "source": [
    "df.dtypes"
   ]
  },
  {
   "cell_type": "markdown",
   "metadata": {},
   "source": [
    "Conforme o resultado abaixo, não há dados ausentes."
   ]
  },
  {
   "cell_type": "code",
   "execution_count": 75,
   "metadata": {},
   "outputs": [
    {
     "data": {
      "text/plain": [
       "age         0\n",
       "sex         0\n",
       "bmi         0\n",
       "children    0\n",
       "smoker      0\n",
       "region      0\n",
       "charges     0\n",
       "dtype: int64"
      ]
     },
     "execution_count": 75,
     "metadata": {},
     "output_type": "execute_result"
    }
   ],
   "source": [
    "df.isnull().sum()"
   ]
  },
  {
   "cell_type": "markdown",
   "metadata": {},
   "source": [
    "Verifica os valores distintos de cada variável."
   ]
  },
  {
   "cell_type": "code",
   "execution_count": 76,
   "metadata": {},
   "outputs": [
    {
     "data": {
      "text/plain": [
       "age           47\n",
       "sex            2\n",
       "bmi          548\n",
       "children       6\n",
       "smoker         2\n",
       "region         4\n",
       "charges     1337\n",
       "dtype: int64"
      ]
     },
     "execution_count": 76,
     "metadata": {},
     "output_type": "execute_result"
    }
   ],
   "source": [
    "df.nunique()"
   ]
  },
  {
   "cell_type": "markdown",
   "metadata": {},
   "source": [
    "Verifica as informações estatísticas do dataset."
   ]
  },
  {
   "cell_type": "code",
   "execution_count": 77,
   "metadata": {},
   "outputs": [
    {
     "data": {
      "text/html": [
       "<div>\n",
       "<style scoped>\n",
       "    .dataframe tbody tr th:only-of-type {\n",
       "        vertical-align: middle;\n",
       "    }\n",
       "\n",
       "    .dataframe tbody tr th {\n",
       "        vertical-align: top;\n",
       "    }\n",
       "\n",
       "    .dataframe thead th {\n",
       "        text-align: right;\n",
       "    }\n",
       "</style>\n",
       "<table border=\"1\" class=\"dataframe\">\n",
       "  <thead>\n",
       "    <tr style=\"text-align: right;\">\n",
       "      <th></th>\n",
       "      <th>age</th>\n",
       "      <th>bmi</th>\n",
       "      <th>children</th>\n",
       "      <th>charges</th>\n",
       "    </tr>\n",
       "  </thead>\n",
       "  <tbody>\n",
       "    <tr>\n",
       "      <th>count</th>\n",
       "      <td>1338.000000</td>\n",
       "      <td>1338.000000</td>\n",
       "      <td>1338.000000</td>\n",
       "      <td>1338.000000</td>\n",
       "    </tr>\n",
       "    <tr>\n",
       "      <th>mean</th>\n",
       "      <td>39.207025</td>\n",
       "      <td>30.663397</td>\n",
       "      <td>1.094918</td>\n",
       "      <td>13270.422265</td>\n",
       "    </tr>\n",
       "    <tr>\n",
       "      <th>std</th>\n",
       "      <td>14.049960</td>\n",
       "      <td>6.098187</td>\n",
       "      <td>1.205493</td>\n",
       "      <td>12110.011237</td>\n",
       "    </tr>\n",
       "    <tr>\n",
       "      <th>min</th>\n",
       "      <td>18.000000</td>\n",
       "      <td>15.960000</td>\n",
       "      <td>0.000000</td>\n",
       "      <td>1121.873900</td>\n",
       "    </tr>\n",
       "    <tr>\n",
       "      <th>25%</th>\n",
       "      <td>27.000000</td>\n",
       "      <td>26.296250</td>\n",
       "      <td>0.000000</td>\n",
       "      <td>4740.287150</td>\n",
       "    </tr>\n",
       "    <tr>\n",
       "      <th>50%</th>\n",
       "      <td>39.000000</td>\n",
       "      <td>30.400000</td>\n",
       "      <td>1.000000</td>\n",
       "      <td>9382.033000</td>\n",
       "    </tr>\n",
       "    <tr>\n",
       "      <th>75%</th>\n",
       "      <td>51.000000</td>\n",
       "      <td>34.693750</td>\n",
       "      <td>2.000000</td>\n",
       "      <td>16639.912515</td>\n",
       "    </tr>\n",
       "    <tr>\n",
       "      <th>max</th>\n",
       "      <td>64.000000</td>\n",
       "      <td>53.130000</td>\n",
       "      <td>5.000000</td>\n",
       "      <td>63770.428010</td>\n",
       "    </tr>\n",
       "  </tbody>\n",
       "</table>\n",
       "</div>"
      ],
      "text/plain": [
       "               age          bmi     children       charges\n",
       "count  1338.000000  1338.000000  1338.000000   1338.000000\n",
       "mean     39.207025    30.663397     1.094918  13270.422265\n",
       "std      14.049960     6.098187     1.205493  12110.011237\n",
       "min      18.000000    15.960000     0.000000   1121.873900\n",
       "25%      27.000000    26.296250     0.000000   4740.287150\n",
       "50%      39.000000    30.400000     1.000000   9382.033000\n",
       "75%      51.000000    34.693750     2.000000  16639.912515\n",
       "max      64.000000    53.130000     5.000000  63770.428010"
      ]
     },
     "execution_count": 77,
     "metadata": {},
     "output_type": "execute_result"
    }
   ],
   "source": [
    "df.describe()"
   ]
  },
  {
   "cell_type": "markdown",
   "metadata": {},
   "source": [
    "Análise:\n",
    "- Idade (age): A idade média é de aproximadamente 39 anos, com um desvio padrão de 14 anos, indicando uma ampla variação de idades.O mínimo é de 18 anos, e o máximo é de 64 anos, sugerindo uma população adulta com uma boa distribuição de idades.\n",
    "\n",
    "- Índice de Massa Corporal (bmi): O valor médio do BMI é de cerca de 30, o que está ligeiramente acima da faixa considerada saudável (18.5 - 24.9), sugerindo uma tendência ao sobrepeso ou obesidade na população. O BMI varia entre 15.96 e 53.13, o que indica a presença de indivíduos com pesos significativamente abaixo e acima do normal.\n",
    "\n",
    "- Número de Filhos (children): A média é aproximadamente 1 filho, mas o valor máximo é de 5, indicando que a maioria das pessoas tem poucos filhos. A mediana é 1, e o terceiro quartil é 2, sugerindo que a maioria tem entre 0 e 2 filhos.\n",
    "\n",
    "- Custo Médico (charges): A média de cobranças é de cerca de 13.270, mas a variação é alta (desvio padrão de aproximadamente 12.110). O mínimo é cerca de 1.121, e o máximo chega a 63.770, indicando que alguns indivíduos têm despesas médicas muito altas, o que pode estar relacionado a fatores como idade, BMI alto ou status de fumante."
   ]
  },
  {
   "cell_type": "markdown",
   "metadata": {},
   "source": [
    "#### Analise da distribuição das variáveis qualitativas ou categóricas."
   ]
  },
  {
   "cell_type": "code",
   "execution_count": 78,
   "metadata": {},
   "outputs": [
    {
     "data": {
      "image/png": "[encoded data removed]",
      "text/plain": [
       "<Figure size 1500x400 with 3 Axes>"
      ]
     },
     "metadata": {},
     "output_type": "display_data"
    }
   ],
   "source": [
    "plt.figure(figsize=(15, 4))\n",
    "\n",
    "plt.subplot(1, 3, 1)\n",
    "sns.countplot(x='sex', data=df)\n",
    "\n",
    "plt.subplot(1, 3, 2)\n",
    "sns.countplot(x='smoker', data=df)\n",
    "\n",
    "plt.subplot(1, 3, 3)\n",
    "sns.countplot(x='region', data=df)\n",
    "\n",
    "plt.show()"
   ]
  },
  {
   "cell_type": "markdown",
   "metadata": {},
   "source": [
    "Análise dos gráficos:\n",
    "- Sexo (sex): A quantidade de pessoas nos dois grupos de sexo é praticamente igual, o que sugere uma boa representatividade tanto de homens quanto de mulheres na amostra.\n",
    "\n",
    "- Fumante (smoker): Observa-se que a maioria das pessoas não é fumante, com um número significativamente menor de fumantes.\n",
    "\n",
    "- Região (region): As quatro regiões têm uma distribuição semelhante em termos de quantidade de indivíduos, sendo que a \"southeast\" possui um pouco mais que as demais."
   ]
  },
  {
   "cell_type": "code",
   "execution_count": 79,
   "metadata": {},
   "outputs": [
    {
     "data": {
      "image/png": "[encoded data removed]",
      "text/plain": [
       "<Figure size 1500x400 with 3 Axes>"
      ]
     },
     "metadata": {},
     "output_type": "display_data"
    }
   ],
   "source": [
    "plt.figure(figsize=(15, 4))\n",
    "\n",
    "plt.subplot(1, 3, 1)\n",
    "sns.boxplot(x='sex', y='charges', data=df)\n",
    "\n",
    "plt.subplot(1, 3, 2)\n",
    "sns.boxplot(x='smoker', y='charges', data=df)\n",
    "\n",
    "plt.subplot(1, 3, 3)\n",
    "sns.boxplot(x='region', y='charges', data=df)\n",
    "\n",
    "plt.show()"
   ]
  },
  {
   "cell_type": "markdown",
   "metadata": {},
   "source": [
    "Análise dos gráficos:\n",
    "\n",
    "- Sexo: Não há uma diferença clara nos custos de saúde entre homens e mulheres, indicando que ambos têm riscos semelhantes que afetam seus custos de saúde de forma equilibrada.\n",
    "\n",
    "- Fumantes vs Não Fumantes: O impacto do tabagismo nos custos de saúde é evidente, com os fumantes apresentando custos médios muito mais elevados. Isso destaca como o tabagismo pode ser um importante fator de risco, aumentando significativamente os encargos médicos.\n",
    "\n",
    "- Região: A localização geográfica tem um impacto limitado nos custos de saúde, com uma distribuição bastante uniforme entre as diferentes regiões. A exceção parece ser a região \"southeast\", que tem mais outliers."
   ]
  },
  {
   "cell_type": "markdown",
   "metadata": {},
   "source": [
    "#### Análise da distribuição das variáveis quantitativas ou numéricas"
   ]
  },
  {
   "cell_type": "code",
   "execution_count": 80,
   "metadata": {},
   "outputs": [
    {
     "data": {
      "image/png": "[encoded data removed]",
      "text/plain": [
       "<Figure size 1500x500 with 4 Axes>"
      ]
     },
     "metadata": {},
     "output_type": "display_data"
    }
   ],
   "source": [
    "df.hist(figsize=(15, 5))\n",
    "plt.show()"
   ]
  },
  {
   "cell_type": "markdown",
   "metadata": {},
   "source": [
    "Análise dos gráficos:\n",
    "\n",
    "- Idade (age): A distribuição é levemente enviesada para os mais jovens, com um pico em torno dos 20 anos. Há uma concentração menor em idades acima dos 50, mas ainda existe uma representação significativa de pessoas até 60 anos, o que reflete uma faixa etária adulta abrangente na amostra.\n",
    "\n",
    "- Índice de Massa Corporal (BMI): A distribuição é aproximadamente normal, centrada em torno de 30, o que reforça o insight de uma média que se aproxima do sobrepeso. Há uma presença reduzida de valores extremos (muito baixos ou muito altos), indicando que a maioria dos indivíduos tem um BMI entre 25 e 35.\n",
    "\n",
    "- Número de Filhos (Children): A maioria dos indivíduos não possui filhos, seguido por aqueles com 1 ou 2 filhos. Poucos indivíduos têm 4 ou 5 filhos, o que indica que famílias pequenas são predominantes na amostra.\n",
    "\n",
    "- Cobrança Médica (Charges): A distribuição é altamente assimétrica, com a maioria das cobranças concentradas em valores mais baixos, abaixo de 20.000. Existem algumas cobranças muito elevadas, o que sugere a presença de casos com despesas médicas excepcionais, provavelmente relacionados a condições de saúde mais complexas ou fatores de risco (como idade avançada, alto BMI ou tabagismo)."
   ]
  },
  {
   "cell_type": "code",
   "execution_count": 81,
   "metadata": {},
   "outputs": [
    {
     "data": {
      "image/png": "[encoded data removed]",
      "text/plain": [
       "<Figure size 1500x400 with 4 Axes>"
      ]
     },
     "metadata": {},
     "output_type": "display_data"
    }
   ],
   "source": [
    "plt.figure(figsize=(15, 4))\n",
    "\n",
    "plt.subplot(1, 4, 1)\n",
    "sns.boxplot(y='age', data=df)\n",
    "\n",
    "plt.subplot(1, 4, 2)\n",
    "sns.boxplot(y='bmi', data=df)\n",
    "\n",
    "plt.subplot(1, 4, 3)\n",
    "sns.boxplot(y='children', data=df)\n",
    "\n",
    "plt.subplot(1, 4, 4)\n",
    "sns.boxplot(y='charges', data=df)\n",
    "\n",
    "plt.show()"
   ]
  },
  {
   "cell_type": "markdown",
   "metadata": {},
   "source": [
    "Análise dos gráficos:\n",
    "\n",
    "- Idade (age): A distribuição é relativamente simétrica, com a maioria dos valores entre 30 e 50 anos. Isso indica uma população adulta ativa, com uma faixa etária predominantemente entre os 30 e 50 anos.\n",
    "\n",
    "- Índice de Massa Corporal (BMI): Os valores de BMI apresentam alguns outliers na faixa acima de 40, indicando a presença de indivíduos com obesidade grave na amostra. A mediana está em torno de 30, o que reforça a tendência ao sobrepeso ou obesidade para a maioria da população.\n",
    "\n",
    "- Número de Filhos (Children): A maioria das pessoas tem entre 0 e 2 filhos, com poucos casos acima disso. Esse padrão reflete uma tendência para famílias pequenas, sendo raro encontrar indivíduos com mais de 3 filhos.\n",
    "\n",
    "- Custo Médico (Charges):Existe uma quantidade significativa de outliers, indicando que uma pequena parcela da população possui despesas médicas muito altas.\n",
    "A mediana das cobranças é relativamente baixa, mas os outliers sugerem casos de gastos elevados, provavelmente devido a condições de saúde que demandam mais atenção médica ou estilos de vida que implicam em maiores riscos (como sobrepeso e tabagismo)."
   ]
  },
  {
   "cell_type": "markdown",
   "metadata": {},
   "source": [
    "#### Matriz de Correlação das variáveis numéricas"
   ]
  },
  {
   "cell_type": "code",
   "execution_count": 82,
   "metadata": {},
   "outputs": [
    {
     "data": {
      "image/png": "[encoded data removed]",
      "text/plain": [
       "<Figure size 640x480 with 2 Axes>"
      ]
     },
     "metadata": {},
     "output_type": "display_data"
    }
   ],
   "source": [
    "numeric_columns = ['age', 'bmi', 'children', 'charges']\n",
    "correlation_matrix = df[numeric_columns].corr().round(2)\n",
    "mask = np.tril(df[numeric_columns].corr())\n",
    "sns.heatmap(data=correlation_matrix, annot=True, linewidths=.5, cmap='coolwarm', mask=mask)\n",
    "\n",
    "plt.show()"
   ]
  },
  {
   "cell_type": "markdown",
   "metadata": {},
   "source": [
    "Análise da matriz de correlação:\n",
    "\n",
    "- Idade (age): Existe uma correlação moderada positiva (0.3) entre idade e as despesas médicas (charges). Isso sugere que, conforme a idade aumenta, as despesas médicas também tendem a aumentar. Esse comportamento pode estar relacionado ao aumento de riscos e necessidades médicas com o envelhecimento.\n",
    "\n",
    "- BMI: A correlação entre BMI e despesas médicas é de 0.2, indicando uma relação positiva, embora mais fraca. Pessoas com maior índice de massa corporal (sobrepeso ou obesidade) tendem a ter despesas médicas ligeiramente mais altas, possivelmente devido a condições de saúde associadas, como hipertensão ou diabetes.\n",
    "\n",
    "- Filhos (children): A correlação entre o número de filhos e as despesas médicas é baixa (0.07), indicando que o número de filhos tem pouca influência sobre os custos médicos."
   ]
  },
  {
   "cell_type": "markdown",
   "metadata": {},
   "source": [
    "#### Transformando os dados categóricos para numéricos"
   ]
  },
  {
   "cell_type": "code",
   "execution_count": 83,
   "metadata": {},
   "outputs": [],
   "source": [
    "# Variável que será usada para converter valores categóricos em numéricos através da técnica LabelEncoding\n",
    "# Verificando os valores da coluna sex. Em seguida iremos transformar em binário (0 ou 1), pois possui somente 2 valores distintos.\n",
    "label_encoder = LabelEncoder()"
   ]
  },
  {
   "cell_type": "code",
   "execution_count": 84,
   "metadata": {},
   "outputs": [
    {
     "data": {
      "text/plain": [
       "sex\n",
       "male      676\n",
       "female    662\n",
       "Name: count, dtype: int64"
      ]
     },
     "execution_count": 84,
     "metadata": {},
     "output_type": "execute_result"
    }
   ],
   "source": [
    "# Verificando os valores antes da transformação\n",
    "df['sex'].value_counts()"
   ]
  },
  {
   "cell_type": "markdown",
   "metadata": {},
   "source": [
    "Transforma os valores categóricos em numéricos da coluna sex"
   ]
  },
  {
   "cell_type": "code",
   "execution_count": 85,
   "metadata": {},
   "outputs": [],
   "source": [
    "df['sex'] = label_encoder.fit_transform(df['sex'])"
   ]
  },
  {
   "cell_type": "code",
   "execution_count": 86,
   "metadata": {},
   "outputs": [
    {
     "data": {
      "text/plain": [
       "sex\n",
       "1    676\n",
       "0    662\n",
       "Name: count, dtype: int64"
      ]
     },
     "execution_count": 86,
     "metadata": {},
     "output_type": "execute_result"
    }
   ],
   "source": [
    "# Verifica após a transformação\n",
    "df['sex'].value_counts()"
   ]
  },
  {
   "cell_type": "code",
   "execution_count": 87,
   "metadata": {},
   "outputs": [
    {
     "data": {
      "text/plain": [
       "smoker\n",
       "no     1064\n",
       "yes     274\n",
       "Name: count, dtype: int64"
      ]
     },
     "execution_count": 87,
     "metadata": {},
     "output_type": "execute_result"
    }
   ],
   "source": [
    "# Verificando os valores antes da transformação\n",
    "df['smoker'].value_counts()"
   ]
  },
  {
   "cell_type": "markdown",
   "metadata": {},
   "source": [
    "Transforma os valores categóricos em numéricos da coluna smoker"
   ]
  },
  {
   "cell_type": "code",
   "execution_count": 88,
   "metadata": {},
   "outputs": [],
   "source": [
    "df['smoker'] = label_encoder.fit_transform(df['smoker'])"
   ]
  },
  {
   "cell_type": "code",
   "execution_count": 89,
   "metadata": {},
   "outputs": [
    {
     "data": {
      "text/plain": [
       "smoker\n",
       "0    1064\n",
       "1     274\n",
       "Name: count, dtype: int64"
      ]
     },
     "execution_count": 89,
     "metadata": {},
     "output_type": "execute_result"
    }
   ],
   "source": [
    "# Verifica após a transformação\n",
    "df['smoker'].value_counts()"
   ]
  },
  {
   "cell_type": "markdown",
   "metadata": {},
   "source": [
    "Converte a variável region para valores numéricos através da técnica OneHotEncoding\n",
    "\n",
    "Essa técnica transforma cada valor distinto numa nova coluna binarizada (0 ou 1)"
   ]
  },
  {
   "cell_type": "code",
   "execution_count": 90,
   "metadata": {},
   "outputs": [
    {
     "data": {
      "text/plain": [
       "region\n",
       "southeast    364\n",
       "southwest    325\n",
       "northwest    325\n",
       "northeast    324\n",
       "Name: count, dtype: int64"
      ]
     },
     "execution_count": 90,
     "metadata": {},
     "output_type": "execute_result"
    }
   ],
   "source": [
    "# Verificando os valores antes da transformação\n",
    "df['region'].value_counts()"
   ]
  },
  {
   "cell_type": "code",
   "execution_count": 91,
   "metadata": {},
   "outputs": [],
   "source": [
    "one_hot_region = OneHotEncoder(sparse_output=False)\n",
    "region_encoded = one_hot_region.fit_transform(df[['region']])\n",
    "df = pd.concat([df, pd.DataFrame(data=region_encoded, columns=one_hot_region.get_feature_names_out())], axis=1)\n",
    "df.drop(columns=['region'], axis=1, inplace=True)"
   ]
  },
  {
   "cell_type": "code",
   "execution_count": 92,
   "metadata": {},
   "outputs": [
    {
     "data": {
      "text/html": [
       "<div>\n",
       "<style scoped>\n",
       "    .dataframe tbody tr th:only-of-type {\n",
       "        vertical-align: middle;\n",
       "    }\n",
       "\n",
       "    .dataframe tbody tr th {\n",
       "        vertical-align: top;\n",
       "    }\n",
       "\n",
       "    .dataframe thead th {\n",
       "        text-align: right;\n",
       "    }\n",
       "</style>\n",
       "<table border=\"1\" class=\"dataframe\">\n",
       "  <thead>\n",
       "    <tr style=\"text-align: right;\">\n",
       "      <th></th>\n",
       "      <th>age</th>\n",
       "      <th>sex</th>\n",
       "      <th>bmi</th>\n",
       "      <th>children</th>\n",
       "      <th>smoker</th>\n",
       "      <th>charges</th>\n",
       "      <th>region_northeast</th>\n",
       "      <th>region_northwest</th>\n",
       "      <th>region_southeast</th>\n",
       "      <th>region_southwest</th>\n",
       "    </tr>\n",
       "  </thead>\n",
       "  <tbody>\n",
       "    <tr>\n",
       "      <th>0</th>\n",
       "      <td>19</td>\n",
       "      <td>0</td>\n",
       "      <td>27.900</td>\n",
       "      <td>0</td>\n",
       "      <td>1</td>\n",
       "      <td>16884.92400</td>\n",
       "      <td>0.0</td>\n",
       "      <td>0.0</td>\n",
       "      <td>0.0</td>\n",
       "      <td>1.0</td>\n",
       "    </tr>\n",
       "    <tr>\n",
       "      <th>1</th>\n",
       "      <td>18</td>\n",
       "      <td>1</td>\n",
       "      <td>33.770</td>\n",
       "      <td>1</td>\n",
       "      <td>0</td>\n",
       "      <td>1725.55230</td>\n",
       "      <td>0.0</td>\n",
       "      <td>0.0</td>\n",
       "      <td>1.0</td>\n",
       "      <td>0.0</td>\n",
       "    </tr>\n",
       "    <tr>\n",
       "      <th>2</th>\n",
       "      <td>28</td>\n",
       "      <td>1</td>\n",
       "      <td>33.000</td>\n",
       "      <td>3</td>\n",
       "      <td>0</td>\n",
       "      <td>4449.46200</td>\n",
       "      <td>0.0</td>\n",
       "      <td>0.0</td>\n",
       "      <td>1.0</td>\n",
       "      <td>0.0</td>\n",
       "    </tr>\n",
       "    <tr>\n",
       "      <th>3</th>\n",
       "      <td>33</td>\n",
       "      <td>1</td>\n",
       "      <td>22.705</td>\n",
       "      <td>0</td>\n",
       "      <td>0</td>\n",
       "      <td>21984.47061</td>\n",
       "      <td>0.0</td>\n",
       "      <td>1.0</td>\n",
       "      <td>0.0</td>\n",
       "      <td>0.0</td>\n",
       "    </tr>\n",
       "    <tr>\n",
       "      <th>4</th>\n",
       "      <td>32</td>\n",
       "      <td>1</td>\n",
       "      <td>28.880</td>\n",
       "      <td>0</td>\n",
       "      <td>0</td>\n",
       "      <td>3866.85520</td>\n",
       "      <td>0.0</td>\n",
       "      <td>1.0</td>\n",
       "      <td>0.0</td>\n",
       "      <td>0.0</td>\n",
       "    </tr>\n",
       "  </tbody>\n",
       "</table>\n",
       "</div>"
      ],
      "text/plain": [
       "   age  sex     bmi  children  smoker      charges  region_northeast  \\\n",
       "0   19    0  27.900         0       1  16884.92400               0.0   \n",
       "1   18    1  33.770         1       0   1725.55230               0.0   \n",
       "2   28    1  33.000         3       0   4449.46200               0.0   \n",
       "3   33    1  22.705         0       0  21984.47061               0.0   \n",
       "4   32    1  28.880         0       0   3866.85520               0.0   \n",
       "\n",
       "   region_northwest  region_southeast  region_southwest  \n",
       "0               0.0               0.0               1.0  \n",
       "1               0.0               1.0               0.0  \n",
       "2               0.0               1.0               0.0  \n",
       "3               1.0               0.0               0.0  \n",
       "4               1.0               0.0               0.0  "
      ]
     },
     "execution_count": 92,
     "metadata": {},
     "output_type": "execute_result"
    }
   ],
   "source": [
    "# Verificando após a transformação\n",
    "df.head()"
   ]
  },
  {
   "cell_type": "markdown",
   "metadata": {},
   "source": [
    "Foram criadas novas colunas: region_norheast, region_northwest, region_southeast e region_southwest."
   ]
  },
  {
   "cell_type": "markdown",
   "metadata": {},
   "source": [
    "#### Matriz de correlação após a transformação dos campos"
   ]
  },
  {
   "cell_type": "code",
   "execution_count": 93,
   "metadata": {},
   "outputs": [
    {
     "data": {
      "image/png": "[encoded data removed]",
      "text/plain": [
       "<Figure size 640x480 with 2 Axes>"
      ]
     },
     "metadata": {},
     "output_type": "display_data"
    }
   ],
   "source": [
    "correlation_matrix = df.corr().round(2)\n",
    "mask = np.tril(df.corr())\n",
    "sns.heatmap(data=correlation_matrix, annot=True, linewidths=.5, cmap='coolwarm', mask=mask)\n",
    "\n",
    "plt.show()"
   ]
  },
  {
   "cell_type": "markdown",
   "metadata": {},
   "source": [
    "Análise da matriz:\n",
    "\n",
    "- Smoker: Existe uma forte correlação positiva (0.79) entre ser fumante e o valor das despesas médicas. Esse é o fator mais fortemente relacionado com os custos médicos, indicando que fumantes tendem a ter despesas significativamente maiores, possivelmente devido a doenças relacionadas ao tabagismo, como doenças respiratórias e cardiovasculares.\n",
    "\n",
    "- Age: A correlação entre idade e despesas médicas continua moderada (0.3), sugerindo que o aumento da idade está associado a um crescimento das despesas, embora com menor impacto que o fator tabagismo.\n",
    "\n",
    "- BMI: A relação entre BMI e despesas médicas é positiva, mas moderada (0.2), indicando que o aumento do índice de massa corporal pode contribuir para o aumento dos custos médicos, mas com impacto menor comparado ao tabagismo.\n",
    "\n",
    "- Region: As regiões (region_northeast, region_northwest, region_southeast, region_southwest) apresentam correlações ligeiramente negativas com charges, variando entre -0.32 e -0.35. Isso indica que, em média, as despesas médicas podem ser um pouco menores em algumas regiões em comparação a outras, mas o efeito é relativamente fraco."
   ]
  },
  {
   "cell_type": "markdown",
   "metadata": {},
   "source": [
    "### Verificando melhor algoritmo com Validação Cruzada\n",
    "\n",
    "A seguir vamos testar vários modelos de regressão para identificar o que tem o melhor desempenho"
   ]
  },
  {
   "cell_type": "code",
   "execution_count": 94,
   "metadata": {},
   "outputs": [],
   "source": [
    "# Separa os dados entre variáveis preditoras (x) e variável alvo (y)\n",
    "x = df.drop(columns=['charges'])\n",
    "y = df['charges']"
   ]
  },
  {
   "cell_type": "markdown",
   "metadata": {},
   "source": [
    "A seguir criamos uma função que recebe uma lista de modelos de regressão que queremos testar, as variáveis preditores, a variável alvo.\n",
    "Também podemos passar por parâmetro o valor de quantos splits queremos que o cross validation aplique, por padrão é 10.\n",
    "\n",
    "A função vai calcular as métricas de validação de modelos de regressão R2, RMSE e MAE para cada algoritmo a ser testado.\n",
    "\n",
    "Além disso, para cada algoritmo será verificado os resultados onde as variáveis preditoras estarão sem transformação, com padronização e com normalização."
   ]
  },
  {
   "cell_type": "code",
   "execution_count": 95,
   "metadata": {},
   "outputs": [],
   "source": [
    "def run_models_with_cross_validation(models: list, x, y, n_splits=10):\n",
    "\n",
    "    def get_model_results(model):\n",
    "        kfold = KFold(n_splits=n_splits, shuffle=True, random_state=42)\n",
    "\n",
    "        # Calcula as métricas de validação de modelos de regressão\n",
    "        # r2, rmse e  mae\n",
    "        def compute_metrics(y_true, y_pred):\n",
    "            r2 = r2_score(y_true, y_pred)\n",
    "            rmse = root_mean_squared_error(y_true, y_pred)\n",
    "            mae = mean_absolute_error(y_true, y_pred)\n",
    "            return r2, rmse, mae\n",
    "\n",
    "        # Pipeline com dados sem transformação\n",
    "        pipeline_original = Pipeline([\n",
    "            ('model', model)\n",
    "        ])\n",
    "        y_pred_original = cross_val_predict(pipeline_original, x, y, cv=kfold)\n",
    "        r2_original, rmse_original, mae_original = compute_metrics(y, y_pred_original)\n",
    "\n",
    "        # Pipeline com padronização StandardScaler\n",
    "        pipeline_std = Pipeline([\n",
    "            ('scaler', StandardScaler()),\n",
    "            ('model', model)\n",
    "        ])\n",
    "        y_pred_std = cross_val_predict(pipeline_std, x, y, cv=kfold)\n",
    "        r2_std, rmse_std, mae_std = compute_metrics(y, y_pred_std)\n",
    "\n",
    "        # Pipeline com normalização MinMaxScaler\n",
    "        pipeline_mm = Pipeline([\n",
    "            ('scaler', MinMaxScaler()),\n",
    "            ('model', model)\n",
    "        ])\n",
    "        y_pred_mm = cross_val_predict(pipeline_mm, x, y, cv=kfold)\n",
    "        r2_mm, rmse_mm, mae_mm = compute_metrics(y, y_pred_mm)\n",
    "\n",
    "        return {\n",
    "            'original': {'r2': r2_original, 'rmse': rmse_original, 'mae': mae_original},\n",
    "            'std': {'r2': r2_std, 'rmse': rmse_std, 'mae': mae_std},\n",
    "            'mm': {'r2': r2_mm, 'rmse': rmse_mm, 'mae': mae_mm}\n",
    "        }\n",
    "\n",
    "    results = []\n",
    "    # Para cada modelo\n",
    "    for name, model in models:\n",
    "        print(f\"Verificando modelo {name}\")\n",
    "        model_results = get_model_results(model)\n",
    "\n",
    "        results.append({\n",
    "            'model': name,\n",
    "            'r2_original': model_results['original']['r2'],\n",
    "            'r2_std': model_results['std']['r2'],\n",
    "            'r2_mm': model_results['mm']['r2'],\n",
    "            'rmse_original': model_results['original']['rmse'],\n",
    "            'rmse_std': model_results['std']['rmse'],\n",
    "            'rmse_mm': model_results['mm']['rmse'],\n",
    "            'mae_original': model_results['original']['mae'],\n",
    "            'mae_std': model_results['std']['mae'],\n",
    "            'mae_mm': model_results['mm']['mae']\n",
    "        })\n",
    "\n",
    "    # retorna um dataframe para comparação dos resultados\n",
    "    df = pd.DataFrame(data=results)\n",
    "\n",
    "    return df\n"
   ]
  },
  {
   "cell_type": "markdown",
   "metadata": {},
   "source": [
    "A seguir vamos chamar a função para verificar qual modelo se saiu melhor"
   ]
  },
  {
   "cell_type": "code",
   "execution_count": 96,
   "metadata": {},
   "outputs": [
    {
     "name": "stdout",
     "output_type": "stream",
     "text": [
      "Verificando modelo LinearRegression\n",
      "Verificando modelo DecisionTreeRegressor\n",
      "Verificando modelo RandomForestRegressor\n",
      "Verificando modelo GradientBoostingRegressor\n",
      "Verificando modelo KNeighborsRegressor\n"
     ]
    }
   ],
   "source": [
    "df_results = run_models_with_cross_validation([\n",
    "    ('LinearRegression', LinearRegression()),\n",
    "    ('DecisionTreeRegressor', DecisionTreeRegressor(max_depth=4)),\n",
    "    ('RandomForestRegressor', RandomForestRegressor(max_depth=4)),\n",
    "    ('GradientBoostingRegressor', GradientBoostingRegressor()),\n",
    "    ('KNeighborsRegressor', KNeighborsRegressor())\n",
    "], x, y)"
   ]
  },
  {
   "cell_type": "code",
   "execution_count": 97,
   "metadata": {},
   "outputs": [
    {
     "data": {
      "text/html": [
       "<div>\n",
       "<style scoped>\n",
       "    .dataframe tbody tr th:only-of-type {\n",
       "        vertical-align: middle;\n",
       "    }\n",
       "\n",
       "    .dataframe tbody tr th {\n",
       "        vertical-align: top;\n",
       "    }\n",
       "\n",
       "    .dataframe thead th {\n",
       "        text-align: right;\n",
       "    }\n",
       "</style>\n",
       "<table border=\"1\" class=\"dataframe\">\n",
       "  <thead>\n",
       "    <tr style=\"text-align: right;\">\n",
       "      <th></th>\n",
       "      <th>model</th>\n",
       "      <th>r2_original</th>\n",
       "      <th>r2_std</th>\n",
       "      <th>r2_mm</th>\n",
       "      <th>rmse_original</th>\n",
       "      <th>rmse_std</th>\n",
       "      <th>rmse_mm</th>\n",
       "      <th>mae_original</th>\n",
       "      <th>mae_std</th>\n",
       "      <th>mae_mm</th>\n",
       "    </tr>\n",
       "  </thead>\n",
       "  <tbody>\n",
       "    <tr>\n",
       "      <th>0</th>\n",
       "      <td>LinearRegression</td>\n",
       "      <td>0.747396</td>\n",
       "      <td>0.746946</td>\n",
       "      <td>0.747578</td>\n",
       "      <td>6084.187209</td>\n",
       "      <td>6089.602692</td>\n",
       "      <td>6081.986751</td>\n",
       "      <td>4204.827492</td>\n",
       "      <td>4214.055366</td>\n",
       "      <td>4203.749467</td>\n",
       "    </tr>\n",
       "    <tr>\n",
       "      <th>1</th>\n",
       "      <td>DecisionTreeRegressor</td>\n",
       "      <td>0.849443</td>\n",
       "      <td>0.848986</td>\n",
       "      <td>0.849443</td>\n",
       "      <td>4697.134280</td>\n",
       "      <td>4704.259336</td>\n",
       "      <td>4697.134280</td>\n",
       "      <td>2723.251980</td>\n",
       "      <td>2723.251980</td>\n",
       "      <td>2723.251980</td>\n",
       "    </tr>\n",
       "    <tr>\n",
       "      <th>2</th>\n",
       "      <td>RandomForestRegressor</td>\n",
       "      <td>0.858280</td>\n",
       "      <td>0.858139</td>\n",
       "      <td>0.858936</td>\n",
       "      <td>4557.199989</td>\n",
       "      <td>4559.469036</td>\n",
       "      <td>4546.642785</td>\n",
       "      <td>2557.967822</td>\n",
       "      <td>2562.366200</td>\n",
       "      <td>2557.451555</td>\n",
       "    </tr>\n",
       "    <tr>\n",
       "      <th>3</th>\n",
       "      <td>GradientBoostingRegressor</td>\n",
       "      <td>0.858737</td>\n",
       "      <td>0.858793</td>\n",
       "      <td>0.859063</td>\n",
       "      <td>4549.838413</td>\n",
       "      <td>4548.945412</td>\n",
       "      <td>4544.593767</td>\n",
       "      <td>2498.570211</td>\n",
       "      <td>2495.654656</td>\n",
       "      <td>2493.650931</td>\n",
       "    </tr>\n",
       "    <tr>\n",
       "      <th>4</th>\n",
       "      <td>KNeighborsRegressor</td>\n",
       "      <td>0.133400</td>\n",
       "      <td>0.794098</td>\n",
       "      <td>0.772063</td>\n",
       "      <td>11269.156524</td>\n",
       "      <td>5493.030306</td>\n",
       "      <td>5779.492251</td>\n",
       "      <td>7756.328940</td>\n",
       "      <td>3351.668150</td>\n",
       "      <td>3546.195712</td>\n",
       "    </tr>\n",
       "  </tbody>\n",
       "</table>\n",
       "</div>"
      ],
      "text/plain": [
       "                       model  r2_original    r2_std     r2_mm  rmse_original  \\\n",
       "0           LinearRegression     0.747396  0.746946  0.747578    6084.187209   \n",
       "1      DecisionTreeRegressor     0.849443  0.848986  0.849443    4697.134280   \n",
       "2      RandomForestRegressor     0.858280  0.858139  0.858936    4557.199989   \n",
       "3  GradientBoostingRegressor     0.858737  0.858793  0.859063    4549.838413   \n",
       "4        KNeighborsRegressor     0.133400  0.794098  0.772063   11269.156524   \n",
       "\n",
       "      rmse_std      rmse_mm  mae_original      mae_std       mae_mm  \n",
       "0  6089.602692  6081.986751   4204.827492  4214.055366  4203.749467  \n",
       "1  4704.259336  4697.134280   2723.251980  2723.251980  2723.251980  \n",
       "2  4559.469036  4546.642785   2557.967822  2562.366200  2557.451555  \n",
       "3  4548.945412  4544.593767   2498.570211  2495.654656  2493.650931  \n",
       "4  5493.030306  5779.492251   7756.328940  3351.668150  3546.195712  "
      ]
     },
     "execution_count": 97,
     "metadata": {},
     "output_type": "execute_result"
    }
   ],
   "source": [
    "df_results.head()"
   ]
  },
  {
   "cell_type": "markdown",
   "metadata": {},
   "source": [
    "A tabela acima mostra o desempenho de diferentes modelos de regressão em relação a várias métricas:\n",
    "\n",
    "- R²: Mede o quão bem o modelo explica a variabilidade dos dados. Um valor mais próximo de 1 indica um melhor ajuste.\n",
    "- RMSE (Root Mean Square Error): Mede o erro médio ao quadrado. Valores mais baixos indicam um ajuste melhor.\n",
    "- MAE (Mean Absolute Error): Mede o erro absoluto médio entre previsões e valores reais. Valores menores indicam um melhor desempenho.\n",
    "\n",
    "Para cada modelo e métrica, foi avalido o desempenho com base nas seguintes configurações dos dados:\n",
    "\n",
    "- Original: Valores sem normalização ou padronização.\n",
    "- Std: Valores após padronização.\n",
    "- MM: Valores após normalização (min-max scaling).\n",
    "\n",
    "\n",
    "Análise do resultado dos modelos:\n",
    "\n",
    "- Linear Regression: R² médio em torno de 0.747, com um RMSE em torno de 6081 e MAE em torno de 4203. Desempenho inferior em comparação aos modelos de árvore de decisão e ensemble.\n",
    "\n",
    "- Decision Tree Regressor: R² médio de aproximadamente 0.849, com um RMSE em torno de 4697 e MAE em torno de 2723. Melhor que a regressão linear, mas não o melhor em comparação com Random Forest e Gradient Boosting.\n",
    "\n",
    "- Random Forest Regressor: R² médio em torno de 0.858, com RMSE em torno de 4549 e MAE em torno de 2553. Melhor desempenho geral em termos de RMSE e MAE.\n",
    "\n",
    "- Gradient Boosting Regressor: R² médio de aproximadamente 0.859, RMSE em torno de 4548 e MAE em torno de 2497. Desempenho similar ao Random Forest, com uma ligeira vantagem no MAE, indicando um ajuste ligeiramente mais preciso.\n",
    "\n",
    "- KNeighbors Regressor: R² médio mais baixo (0.772) e um RMSE muito alto em comparação com os outros modelos (acima de 5779). Este modelo tem o pior desempenho em termos de precisão entre todos.\n",
    "\n",
    "Conclusão:\n",
    "\n",
    "Gradient Boosting Regressor e Random Forest Regressor apresentam os melhores desempenhos, com R² próximos de 0.859 e RMSE e MAE mais baixos. O Gradient Boosting Regressor leva uma pequena vantagem, especialmente no MAE, sugerindo que ele fornece previsões ligeiramente mais precisas. Portanto, o Gradient Boosting Regressor pode ser considerado o melhor modelo para este conjunto de dados, seguido de perto pelo Random Forest Regressor. Entretanto, como vimos nas aulas o RandomForestRegressor, vamos optar por este modelo como sendo o melhor.\n",
    "\n",
    "Com relação aos dados, o desempenho foi praticamente o mesmo em todas as abordagens. Isso se deve ao fato de que esses modelos de Decision Tree, Random Forest e Gradient Boosting não são sensíveis à escala dos dados. Então vamos optar por usar o StandardScaler.\n"
   ]
  },
  {
   "cell_type": "markdown",
   "metadata": {},
   "source": [
    "#### Fine Tunning do modelo Random Forest"
   ]
  },
  {
   "cell_type": "markdown",
   "metadata": {},
   "source": [
    "A seguir criamos uma função para tentar encontrar a melhor combinação de hiperparâmetros do algoritmo RandomForestRegressor utilizando a técnica de GridSearchCV."
   ]
  },
  {
   "cell_type": "code",
   "execution_count": 98,
   "metadata": {},
   "outputs": [],
   "source": [
    "def search_best_hyperparameters(x, y):\n",
    "\n",
    "    X_train, X_test, y_train, y_test = train_test_split(x, y, test_size=0.2, random_state=42)\n",
    "\n",
    "    # Pipeline que usa StandardScaler e Random Forest\n",
    "    pipeline = Pipeline([\n",
    "        ('scaler', StandardScaler()),\n",
    "        ('rf', RandomForestRegressor())\n",
    "    ])\n",
    "\n",
    "    # Definir a grade de parâmetros para buscar os melhores hiperparâmetros\n",
    "    param_grid = {\n",
    "        'rf__max_depth': [None, 2, 3, 4, 5],\n",
    "        'rf__max_features': [1, 2, 3, 4, 5, ],\n",
    "        'rf__min_samples_leaf': [1, 2, 4],\n",
    "        'rf__min_samples_split': [2, 5, 10],\n",
    "        # 'rf__n_estimators': [100, 200]\n",
    "    }\n",
    "\n",
    "    # Configurar o GridSearchCV\n",
    "    grid_search = GridSearchCV(estimator=pipeline, param_grid=param_grid, cv=5, n_jobs=-1, scoring='r2')\n",
    "\n",
    "    # Treinar o modelo com a busca em grade\n",
    "    grid_search.fit(X_train, y_train)\n",
    "\n",
    "    # Obter os melhores parâmetros\n",
    "    best_params = grid_search.best_params_\n",
    "    print(\"Melhores parâmetros encontrados:\", best_params)\n",
    "\n",
    "    # Avaliar o modelo com os melhores parâmetros\n",
    "    y_pred = grid_search.best_estimator_.predict(X_test)\n",
    "\n",
    "    rmse = root_mean_squared_error(y_test, y_pred)\n",
    "    mae = mean_absolute_error(y_test, y_pred)\n",
    "    r2 = r2_score(y_test, y_pred)\n",
    "\n",
    "    # Imprime as métricas de avaliação do modelo\n",
    "    print(\"RMSE\", rmse)\n",
    "    print(\"MAE\", mae)\n",
    "    print(\"R2:\", r2)"
   ]
  },
  {
   "cell_type": "code",
   "execution_count": 99,
   "metadata": {},
   "outputs": [
    {
     "name": "stdout",
     "output_type": "stream",
     "text": [
      "Melhores parâmetros encontrados: {'rf__max_depth': 5, 'rf__max_features': 5, 'rf__min_samples_leaf': 2, 'rf__min_samples_split': 5}\n",
      "RMSE 4391.761191367413\n",
      "MAE 2650.1272943080794\n",
      "R2: 0.8757634527724115\n"
     ]
    }
   ],
   "source": [
    "search_best_hyperparameters(x, y)"
   ]
  },
  {
   "cell_type": "markdown",
   "metadata": {},
   "source": [
    "Após executar a função que tentou buscar os melhores hiperparâmetros, fechamos na combinação acima.\n",
    "\n",
    "Portanto, vamos utilizar esses valores nos próximos passos de treinamento e validação do modelo."
   ]
  },
  {
   "cell_type": "markdown",
   "metadata": {},
   "source": [
    "### Treinamento do modelo escolhido \n",
    "\n",
    "Escolhemos o algoritmo Random Forest Regressor, pois foi um dos que teve melhor desempenho.\n",
    "\n",
    "Vamos separar os dados entre treino e teste, aplicar a padronização dos dados e treinar o modelo"
   ]
  },
  {
   "cell_type": "code",
   "execution_count": 100,
   "metadata": {},
   "outputs": [
    {
     "name": "stdout",
     "output_type": "stream",
     "text": [
      "Linhas para treino: 1070\n",
      "Linhas para teste: 268\n"
     ]
    }
   ],
   "source": [
    "# Separa dados de treino e de teste\n",
    "X_train, X_test, y_train, y_test = train_test_split(x, y, test_size=0.2, random_state=42)\n",
    "print(f\"Linhas para treino: {len(X_train)}\")\n",
    "print(f\"Linhas para teste: {len(X_test)}\")"
   ]
  },
  {
   "cell_type": "markdown",
   "metadata": {},
   "source": [
    "Vamos criar um pipeline para aplicar a padronização dos dados das variáveis preditoras e que treine o modelo em seguida."
   ]
  },
  {
   "cell_type": "code",
   "execution_count": 101,
   "metadata": {},
   "outputs": [],
   "source": [
    "# TODO: criar um pipeline que tranforme os dados categoriais em numéricos\n",
    "\n",
    "pipeline = Pipeline([\n",
    "    ('scaler', StandardScaler()),\n",
    "    ('rf', RandomForestRegressor(max_depth=5, max_features=5, min_samples_leaf=2, min_samples_split=5, random_state=42))\n",
    "])"
   ]
  },
  {
   "cell_type": "markdown",
   "metadata": {},
   "source": [
    "Treinando o modelo com base no pipeline criado"
   ]
  },
  {
   "cell_type": "code",
   "execution_count": 102,
   "metadata": {},
   "outputs": [
    {
     "data": {
      "text/html": [
       "<style>#sk-container-id-5 {\n",
       "  /* Definition of color scheme common for light and dark mode */\n",
       "  --sklearn-color-text: black;\n",
       "  --sklearn-color-line: gray;\n",
       "  /* Definition of color scheme for unfitted estimators */\n",
       "  --sklearn-color-unfitted-level-0: #fff5e6;\n",
       "  --sklearn-color-unfitted-level-1: #f6e4d2;\n",
       "  --sklearn-color-unfitted-level-2: #ffe0b3;\n",
       "  --sklearn-color-unfitted-level-3: chocolate;\n",
       "  /* Definition of color scheme for fitted estimators */\n",
       "  --sklearn-color-fitted-level-0: #f0f8ff;\n",
       "  --sklearn-color-fitted-level-1: #d4ebff;\n",
       "  --sklearn-color-fitted-level-2: #b3dbfd;\n",
       "  --sklearn-color-fitted-level-3: cornflowerblue;\n",
       "\n",
       "  /* Specific color for light theme */\n",
       "  --sklearn-color-text-on-default-background: var(--sg-text-color, var(--theme-code-foreground, var(--jp-content-font-color1, black)));\n",
       "  --sklearn-color-background: var(--sg-background-color, var(--theme-background, var(--jp-layout-color0, white)));\n",
       "  --sklearn-color-border-box: var(--sg-text-color, var(--theme-code-foreground, var(--jp-content-font-color1, black)));\n",
       "  --sklearn-color-icon: #696969;\n",
       "\n",
       "  @media (prefers-color-scheme: dark) {\n",
       "    /* Redefinition of color scheme for dark theme */\n",
       "    --sklearn-color-text-on-default-background: var(--sg-text-color, var(--theme-code-foreground, var(--jp-content-font-color1, white)));\n",
       "    --sklearn-color-background: var(--sg-background-color, var(--theme-background, var(--jp-layout-color0, #111)));\n",
       "    --sklearn-color-border-box: var(--sg-text-color, var(--theme-code-foreground, var(--jp-content-font-color1, white)));\n",
       "    --sklearn-color-icon: #878787;\n",
       "  }\n",
       "}\n",
       "\n",
       "#sk-container-id-5 {\n",
       "  color: var(--sklearn-color-text);\n",
       "}\n",
       "\n",
       "#sk-container-id-5 pre {\n",
       "  padding: 0;\n",
       "}\n",
       "\n",
       "#sk-container-id-5 input.sk-hidden--visually {\n",
       "  border: 0;\n",
       "  clip: rect(1px 1px 1px 1px);\n",
       "  clip: rect(1px, 1px, 1px, 1px);\n",
       "  height: 1px;\n",
       "  margin: -1px;\n",
       "  overflow: hidden;\n",
       "  padding: 0;\n",
       "  position: absolute;\n",
       "  width: 1px;\n",
       "}\n",
       "\n",
       "#sk-container-id-5 div.sk-dashed-wrapped {\n",
       "  border: 1px dashed var(--sklearn-color-line);\n",
       "  margin: 0 0.4em 0.5em 0.4em;\n",
       "  box-sizing: border-box;\n",
       "  padding-bottom: 0.4em;\n",
       "  background-color: var(--sklearn-color-background);\n",
       "}\n",
       "\n",
       "#sk-container-id-5 div.sk-container {\n",
       "  /* jupyter's `normalize.less` sets `[hidden] { display: none; }`\n",
       "     but bootstrap.min.css set `[hidden] { display: none !important; }`\n",
       "     so we also need the `!important` here to be able to override the\n",
       "     default hidden behavior on the sphinx rendered scikit-learn.org.\n",
       "     See: https://github.com/scikit-learn/scikit-learn/issues/21755 */\n",
       "  display: inline-block !important;\n",
       "  position: relative;\n",
       "}\n",
       "\n",
       "#sk-container-id-5 div.sk-text-repr-fallback {\n",
       "  display: none;\n",
       "}\n",
       "\n",
       "div.sk-parallel-item,\n",
       "div.sk-serial,\n",
       "div.sk-item {\n",
       "  /* draw centered vertical line to link estimators */\n",
       "  background-image: linear-gradient(var(--sklearn-color-text-on-default-background), var(--sklearn-color-text-on-default-background));\n",
       "  background-size: 2px 100%;\n",
       "  background-repeat: no-repeat;\n",
       "  background-position: center center;\n",
       "}\n",
       "\n",
       "/* Parallel-specific style estimator block */\n",
       "\n",
       "#sk-container-id-5 div.sk-parallel-item::after {\n",
       "  content: \"\";\n",
       "  width: 100%;\n",
       "  border-bottom: 2px solid var(--sklearn-color-text-on-default-background);\n",
       "  flex-grow: 1;\n",
       "}\n",
       "\n",
       "#sk-container-id-5 div.sk-parallel {\n",
       "  display: flex;\n",
       "  align-items: stretch;\n",
       "  justify-content: center;\n",
       "  background-color: var(--sklearn-color-background);\n",
       "  position: relative;\n",
       "}\n",
       "\n",
       "#sk-container-id-5 div.sk-parallel-item {\n",
       "  display: flex;\n",
       "  flex-direction: column;\n",
       "}\n",
       "\n",
       "#sk-container-id-5 div.sk-parallel-item:first-child::after {\n",
       "  align-self: flex-end;\n",
       "  width: 50%;\n",
       "}\n",
       "\n",
       "#sk-container-id-5 div.sk-parallel-item:last-child::after {\n",
       "  align-self: flex-start;\n",
       "  width: 50%;\n",
       "}\n",
       "\n",
       "#sk-container-id-5 div.sk-parallel-item:only-child::after {\n",
       "  width: 0;\n",
       "}\n",
       "\n",
       "/* Serial-specific style estimator block */\n",
       "\n",
       "#sk-container-id-5 div.sk-serial {\n",
       "  display: flex;\n",
       "  flex-direction: column;\n",
       "  align-items: center;\n",
       "  background-color: var(--sklearn-color-background);\n",
       "  padding-right: 1em;\n",
       "  padding-left: 1em;\n",
       "}\n",
       "\n",
       "\n",
       "/* Toggleable style: style used for estimator/Pipeline/ColumnTransformer box that is\n",
       "clickable and can be expanded/collapsed.\n",
       "- Pipeline and ColumnTransformer use this feature and define the default style\n",
       "- Estimators will overwrite some part of the style using the `sk-estimator` class\n",
       "*/\n",
       "\n",
       "/* Pipeline and ColumnTransformer style (default) */\n",
       "\n",
       "#sk-container-id-5 div.sk-toggleable {\n",
       "  /* Default theme specific background. It is overwritten whether we have a\n",
       "  specific estimator or a Pipeline/ColumnTransformer */\n",
       "  background-color: var(--sklearn-color-background);\n",
       "}\n",
       "\n",
       "/* Toggleable label */\n",
       "#sk-container-id-5 label.sk-toggleable__label {\n",
       "  cursor: pointer;\n",
       "  display: block;\n",
       "  width: 100%;\n",
       "  margin-bottom: 0;\n",
       "  padding: 0.5em;\n",
       "  box-sizing: border-box;\n",
       "  text-align: center;\n",
       "}\n",
       "\n",
       "#sk-container-id-5 label.sk-toggleable__label-arrow:before {\n",
       "  /* Arrow on the left of the label */\n",
       "  content: \"▸\";\n",
       "  float: left;\n",
       "  margin-right: 0.25em;\n",
       "  color: var(--sklearn-color-icon);\n",
       "}\n",
       "\n",
       "#sk-container-id-5 label.sk-toggleable__label-arrow:hover:before {\n",
       "  color: var(--sklearn-color-text);\n",
       "}\n",
       "\n",
       "/* Toggleable content - dropdown */\n",
       "\n",
       "#sk-container-id-5 div.sk-toggleable__content {\n",
       "  max-height: 0;\n",
       "  max-width: 0;\n",
       "  overflow: hidden;\n",
       "  text-align: left;\n",
       "  /* unfitted */\n",
       "  background-color: var(--sklearn-color-unfitted-level-0);\n",
       "}\n",
       "\n",
       "#sk-container-id-5 div.sk-toggleable__content.fitted {\n",
       "  /* fitted */\n",
       "  background-color: var(--sklearn-color-fitted-level-0);\n",
       "}\n",
       "\n",
       "#sk-container-id-5 div.sk-toggleable__content pre {\n",
       "  margin: 0.2em;\n",
       "  border-radius: 0.25em;\n",
       "  color: var(--sklearn-color-text);\n",
       "  /* unfitted */\n",
       "  background-color: var(--sklearn-color-unfitted-level-0);\n",
       "}\n",
       "\n",
       "#sk-container-id-5 div.sk-toggleable__content.fitted pre {\n",
       "  /* unfitted */\n",
       "  background-color: var(--sklearn-color-fitted-level-0);\n",
       "}\n",
       "\n",
       "#sk-container-id-5 input.sk-toggleable__control:checked~div.sk-toggleable__content {\n",
       "  /* Expand drop-down */\n",
       "  max-height: 200px;\n",
       "  max-width: 100%;\n",
       "  overflow: auto;\n",
       "}\n",
       "\n",
       "#sk-container-id-5 input.sk-toggleable__control:checked~label.sk-toggleable__label-arrow:before {\n",
       "  content: \"▾\";\n",
       "}\n",
       "\n",
       "/* Pipeline/ColumnTransformer-specific style */\n",
       "\n",
       "#sk-container-id-5 div.sk-label input.sk-toggleable__control:checked~label.sk-toggleable__label {\n",
       "  color: var(--sklearn-color-text);\n",
       "  background-color: var(--sklearn-color-unfitted-level-2);\n",
       "}\n",
       "\n",
       "#sk-container-id-5 div.sk-label.fitted input.sk-toggleable__control:checked~label.sk-toggleable__label {\n",
       "  background-color: var(--sklearn-color-fitted-level-2);\n",
       "}\n",
       "\n",
       "/* Estimator-specific style */\n",
       "\n",
       "/* Colorize estimator box */\n",
       "#sk-container-id-5 div.sk-estimator input.sk-toggleable__control:checked~label.sk-toggleable__label {\n",
       "  /* unfitted */\n",
       "  background-color: var(--sklearn-color-unfitted-level-2);\n",
       "}\n",
       "\n",
       "#sk-container-id-5 div.sk-estimator.fitted input.sk-toggleable__control:checked~label.sk-toggleable__label {\n",
       "  /* fitted */\n",
       "  background-color: var(--sklearn-color-fitted-level-2);\n",
       "}\n",
       "\n",
       "#sk-container-id-5 div.sk-label label.sk-toggleable__label,\n",
       "#sk-container-id-5 div.sk-label label {\n",
       "  /* The background is the default theme color */\n",
       "  color: var(--sklearn-color-text-on-default-background);\n",
       "}\n",
       "\n",
       "/* On hover, darken the color of the background */\n",
       "#sk-container-id-5 div.sk-label:hover label.sk-toggleable__label {\n",
       "  color: var(--sklearn-color-text);\n",
       "  background-color: var(--sklearn-color-unfitted-level-2);\n",
       "}\n",
       "\n",
       "/* Label box, darken color on hover, fitted */\n",
       "#sk-container-id-5 div.sk-label.fitted:hover label.sk-toggleable__label.fitted {\n",
       "  color: var(--sklearn-color-text);\n",
       "  background-color: var(--sklearn-color-fitted-level-2);\n",
       "}\n",
       "\n",
       "/* Estimator label */\n",
       "\n",
       "#sk-container-id-5 div.sk-label label {\n",
       "  font-family: monospace;\n",
       "  font-weight: bold;\n",
       "  display: inline-block;\n",
       "  line-height: 1.2em;\n",
       "}\n",
       "\n",
       "#sk-container-id-5 div.sk-label-container {\n",
       "  text-align: center;\n",
       "}\n",
       "\n",
       "/* Estimator-specific */\n",
       "#sk-container-id-5 div.sk-estimator {\n",
       "  font-family: monospace;\n",
       "  border: 1px dotted var(--sklearn-color-border-box);\n",
       "  border-radius: 0.25em;\n",
       "  box-sizing: border-box;\n",
       "  margin-bottom: 0.5em;\n",
       "  /* unfitted */\n",
       "  background-color: var(--sklearn-color-unfitted-level-0);\n",
       "}\n",
       "\n",
       "#sk-container-id-5 div.sk-estimator.fitted {\n",
       "  /* fitted */\n",
       "  background-color: var(--sklearn-color-fitted-level-0);\n",
       "}\n",
       "\n",
       "/* on hover */\n",
       "#sk-container-id-5 div.sk-estimator:hover {\n",
       "  /* unfitted */\n",
       "  background-color: var(--sklearn-color-unfitted-level-2);\n",
       "}\n",
       "\n",
       "#sk-container-id-5 div.sk-estimator.fitted:hover {\n",
       "  /* fitted */\n",
       "  background-color: var(--sklearn-color-fitted-level-2);\n",
       "}\n",
       "\n",
       "/* Specification for estimator info (e.g. \"i\" and \"?\") */\n",
       "\n",
       "/* Common style for \"i\" and \"?\" */\n",
       "\n",
       ".sk-estimator-doc-link,\n",
       "a:link.sk-estimator-doc-link,\n",
       "a:visited.sk-estimator-doc-link {\n",
       "  float: right;\n",
       "  font-size: smaller;\n",
       "  line-height: 1em;\n",
       "  font-family: monospace;\n",
       "  background-color: var(--sklearn-color-background);\n",
       "  border-radius: 1em;\n",
       "  height: 1em;\n",
       "  width: 1em;\n",
       "  text-decoration: none !important;\n",
       "  margin-left: 1ex;\n",
       "  /* unfitted */\n",
       "  border: var(--sklearn-color-unfitted-level-1) 1pt solid;\n",
       "  color: var(--sklearn-color-unfitted-level-1);\n",
       "}\n",
       "\n",
       ".sk-estimator-doc-link.fitted,\n",
       "a:link.sk-estimator-doc-link.fitted,\n",
       "a:visited.sk-estimator-doc-link.fitted {\n",
       "  /* fitted */\n",
       "  border: var(--sklearn-color-fitted-level-1) 1pt solid;\n",
       "  color: var(--sklearn-color-fitted-level-1);\n",
       "}\n",
       "\n",
       "/* On hover */\n",
       "div.sk-estimator:hover .sk-estimator-doc-link:hover,\n",
       ".sk-estimator-doc-link:hover,\n",
       "div.sk-label-container:hover .sk-estimator-doc-link:hover,\n",
       ".sk-estimator-doc-link:hover {\n",
       "  /* unfitted */\n",
       "  background-color: var(--sklearn-color-unfitted-level-3);\n",
       "  color: var(--sklearn-color-background);\n",
       "  text-decoration: none;\n",
       "}\n",
       "\n",
       "div.sk-estimator.fitted:hover .sk-estimator-doc-link.fitted:hover,\n",
       ".sk-estimator-doc-link.fitted:hover,\n",
       "div.sk-label-container:hover .sk-estimator-doc-link.fitted:hover,\n",
       ".sk-estimator-doc-link.fitted:hover {\n",
       "  /* fitted */\n",
       "  background-color: var(--sklearn-color-fitted-level-3);\n",
       "  color: var(--sklearn-color-background);\n",
       "  text-decoration: none;\n",
       "}\n",
       "\n",
       "/* Span, style for the box shown on hovering the info icon */\n",
       ".sk-estimator-doc-link span {\n",
       "  display: none;\n",
       "  z-index: 9999;\n",
       "  position: relative;\n",
       "  font-weight: normal;\n",
       "  right: .2ex;\n",
       "  padding: .5ex;\n",
       "  margin: .5ex;\n",
       "  width: min-content;\n",
       "  min-width: 20ex;\n",
       "  max-width: 50ex;\n",
       "  color: var(--sklearn-color-text);\n",
       "  box-shadow: 2pt 2pt 4pt #999;\n",
       "  /* unfitted */\n",
       "  background: var(--sklearn-color-unfitted-level-0);\n",
       "  border: .5pt solid var(--sklearn-color-unfitted-level-3);\n",
       "}\n",
       "\n",
       ".sk-estimator-doc-link.fitted span {\n",
       "  /* fitted */\n",
       "  background: var(--sklearn-color-fitted-level-0);\n",
       "  border: var(--sklearn-color-fitted-level-3);\n",
       "}\n",
       "\n",
       ".sk-estimator-doc-link:hover span {\n",
       "  display: block;\n",
       "}\n",
       "\n",
       "/* \"?\"-specific style due to the `<a>` HTML tag */\n",
       "\n",
       "#sk-container-id-5 a.estimator_doc_link {\n",
       "  float: right;\n",
       "  font-size: 1rem;\n",
       "  line-height: 1em;\n",
       "  font-family: monospace;\n",
       "  background-color: var(--sklearn-color-background);\n",
       "  border-radius: 1rem;\n",
       "  height: 1rem;\n",
       "  width: 1rem;\n",
       "  text-decoration: none;\n",
       "  /* unfitted */\n",
       "  color: var(--sklearn-color-unfitted-level-1);\n",
       "  border: var(--sklearn-color-unfitted-level-1) 1pt solid;\n",
       "}\n",
       "\n",
       "#sk-container-id-5 a.estimator_doc_link.fitted {\n",
       "  /* fitted */\n",
       "  border: var(--sklearn-color-fitted-level-1) 1pt solid;\n",
       "  color: var(--sklearn-color-fitted-level-1);\n",
       "}\n",
       "\n",
       "/* On hover */\n",
       "#sk-container-id-5 a.estimator_doc_link:hover {\n",
       "  /* unfitted */\n",
       "  background-color: var(--sklearn-color-unfitted-level-3);\n",
       "  color: var(--sklearn-color-background);\n",
       "  text-decoration: none;\n",
       "}\n",
       "\n",
       "#sk-container-id-5 a.estimator_doc_link.fitted:hover {\n",
       "  /* fitted */\n",
       "  background-color: var(--sklearn-color-fitted-level-3);\n",
       "}\n",
       "</style><div id=\"sk-container-id-5\" class=\"sk-top-container\"><div class=\"sk-text-repr-fallback\"><pre>Pipeline(steps=[(&#x27;scaler&#x27;, StandardScaler()),\n",
       "                (&#x27;rf&#x27;,\n",
       "                 RandomForestRegressor(max_depth=5, max_features=5,\n",
       "                                       min_samples_leaf=2, min_samples_split=5,\n",
       "                                       random_state=42))])</pre><b>In a Jupyter environment, please rerun this cell to show the HTML representation or trust the notebook. <br />On GitHub, the HTML representation is unable to render, please try loading this page with nbviewer.org.</b></div><div class=\"sk-container\" hidden><div class=\"sk-item sk-dashed-wrapped\"><div class=\"sk-label-container\"><div class=\"sk-label fitted sk-toggleable\"><input class=\"sk-toggleable__control sk-hidden--visually\" id=\"sk-estimator-id-16\" type=\"checkbox\" ><label for=\"sk-estimator-id-16\" class=\"sk-toggleable__label fitted sk-toggleable__label-arrow fitted\">&nbsp;&nbsp;Pipeline<a class=\"sk-estimator-doc-link fitted\" rel=\"noreferrer\" target=\"_blank\" href=\"https://scikit-learn.org/1.5/modules/generated/sklearn.pipeline.Pipeline.html\">?<span>Documentation for Pipeline</span></a><span class=\"sk-estimator-doc-link fitted\">i<span>Fitted</span></span></label><div class=\"sk-toggleable__content fitted\"><pre>Pipeline(steps=[(&#x27;scaler&#x27;, StandardScaler()),\n",
       "                (&#x27;rf&#x27;,\n",
       "                 RandomForestRegressor(max_depth=5, max_features=5,\n",
       "                                       min_samples_leaf=2, min_samples_split=5,\n",
       "                                       random_state=42))])</pre></div> </div></div><div class=\"sk-serial\"><div class=\"sk-item\"><div class=\"sk-estimator fitted sk-toggleable\"><input class=\"sk-toggleable__control sk-hidden--visually\" id=\"sk-estimator-id-17\" type=\"checkbox\" ><label for=\"sk-estimator-id-17\" class=\"sk-toggleable__label fitted sk-toggleable__label-arrow fitted\">&nbsp;StandardScaler<a class=\"sk-estimator-doc-link fitted\" rel=\"noreferrer\" target=\"_blank\" href=\"https://scikit-learn.org/1.5/modules/generated/sklearn.preprocessing.StandardScaler.html\">?<span>Documentation for StandardScaler</span></a></label><div class=\"sk-toggleable__content fitted\"><pre>StandardScaler()</pre></div> </div></div><div class=\"sk-item\"><div class=\"sk-estimator fitted sk-toggleable\"><input class=\"sk-toggleable__control sk-hidden--visually\" id=\"sk-estimator-id-18\" type=\"checkbox\" ><label for=\"sk-estimator-id-18\" class=\"sk-toggleable__label fitted sk-toggleable__label-arrow fitted\">&nbsp;RandomForestRegressor<a class=\"sk-estimator-doc-link fitted\" rel=\"noreferrer\" target=\"_blank\" href=\"https://scikit-learn.org/1.5/modules/generated/sklearn.ensemble.RandomForestRegressor.html\">?<span>Documentation for RandomForestRegressor</span></a></label><div class=\"sk-toggleable__content fitted\"><pre>RandomForestRegressor(max_depth=5, max_features=5, min_samples_leaf=2,\n",
       "                      min_samples_split=5, random_state=42)</pre></div> </div></div></div></div></div></div>"
      ],
      "text/plain": [
       "Pipeline(steps=[('scaler', StandardScaler()),\n",
       "                ('rf',\n",
       "                 RandomForestRegressor(max_depth=5, max_features=5,\n",
       "                                       min_samples_leaf=2, min_samples_split=5,\n",
       "                                       random_state=42))])"
      ]
     },
     "execution_count": 102,
     "metadata": {},
     "output_type": "execute_result"
    }
   ],
   "source": [
    "pipeline.fit(X_train, y_train)"
   ]
  },
  {
   "cell_type": "markdown",
   "metadata": {},
   "source": [
    "Verificando o resultado das predições"
   ]
  },
  {
   "cell_type": "code",
   "execution_count": 103,
   "metadata": {},
   "outputs": [
    {
     "data": {
      "text/plain": [
       "array([10650.70956773,  5707.23371137, 27666.87430827, 10466.43730361,\n",
       "       34777.64409276,  6146.49530562,  3538.36466877, 14785.0474403 ,\n",
       "        5804.08901484, 11061.94857787])"
      ]
     },
     "execution_count": 103,
     "metadata": {},
     "output_type": "execute_result"
    }
   ],
   "source": [
    "y_pred = pipeline.predict(X_test)\n",
    "\n",
    "# Lista as primeiras 10 linhas\n",
    "y_pred[:10]"
   ]
  },
  {
   "cell_type": "markdown",
   "metadata": {},
   "source": [
    "Verificando as métricas de validação do modelo"
   ]
  },
  {
   "cell_type": "code",
   "execution_count": 104,
   "metadata": {},
   "outputs": [
    {
     "name": "stdout",
     "output_type": "stream",
     "text": [
      "R2: 0.8753372309154961\n",
      "RMSE: 4399.288211133832\n",
      "MAE: 2582.612917958174\n"
     ]
    }
   ],
   "source": [
    "r2 = r2_score(y_test, y_pred)\n",
    "rmse = root_mean_squared_error(y_test, y_pred)\n",
    "mae = mean_absolute_error(y_test, y_pred)\n",
    "\n",
    "print (f'R2: {r2}')\n",
    "print (f'RMSE: {rmse}')\n",
    "print (f'MAE: {mae}')"
   ]
  },
  {
   "cell_type": "markdown",
   "metadata": {},
   "source": [
    "TODO: explicar os resultados"
   ]
  },
  {
   "cell_type": "markdown",
   "metadata": {},
   "source": [
    "Plotando o gráfico que mostra os valores reais versus os valores previstos"
   ]
  },
  {
   "cell_type": "code",
   "execution_count": 105,
   "metadata": {},
   "outputs": [
    {
     "data": {
      "image/png": "[encoded data removed]",
      "text/plain": [
       "<Figure size 1000x600 with 1 Axes>"
      ]
     },
     "metadata": {},
     "output_type": "display_data"
    }
   ],
   "source": [
    "def plot_real_vs_pred(y_test, y_pred):\n",
    "    plt.figure(figsize=(10, 6))\n",
    "    plt.scatter(y_test, y_pred, alpha=0.6)\n",
    "    plt.plot([y_test.min(), y_test.max()], [y_test.min(), y_test.max()], 'r--', lw=2)\n",
    "    plt.xlabel('Valores Reais dos Custos Médicos')\n",
    "    plt.ylabel('Valores Previstos dos Custos Médicos')\n",
    "    plt.title('Previsões vs. Valores Reais dos Custos Médicos')\n",
    "    plt.show()\n",
    "\n",
    "plot_real_vs_pred(y_test, y_pred)"
   ]
  },
  {
   "cell_type": "markdown",
   "metadata": {},
   "source": [
    "Verificando a distribuição dos erros"
   ]
  },
  {
   "cell_type": "code",
   "execution_count": 106,
   "metadata": {},
   "outputs": [
    {
     "data": {
      "text/html": [
       "<div>\n",
       "<style scoped>\n",
       "    .dataframe tbody tr th:only-of-type {\n",
       "        vertical-align: middle;\n",
       "    }\n",
       "\n",
       "    .dataframe tbody tr th {\n",
       "        vertical-align: top;\n",
       "    }\n",
       "\n",
       "    .dataframe thead th {\n",
       "        text-align: right;\n",
       "    }\n",
       "</style>\n",
       "<table border=\"1\" class=\"dataframe\">\n",
       "  <thead>\n",
       "    <tr style=\"text-align: right;\">\n",
       "      <th></th>\n",
       "      <th>y_test</th>\n",
       "      <th>y_pred</th>\n",
       "      <th>error</th>\n",
       "      <th>pct_error</th>\n",
       "    </tr>\n",
       "  </thead>\n",
       "  <tbody>\n",
       "    <tr>\n",
       "      <th>29</th>\n",
       "      <td>1131.5066</td>\n",
       "      <td>3578.417849</td>\n",
       "      <td>2446.911249</td>\n",
       "      <td>2.162525</td>\n",
       "    </tr>\n",
       "    <tr>\n",
       "      <th>152</th>\n",
       "      <td>1146.7966</td>\n",
       "      <td>3268.370399</td>\n",
       "      <td>2121.573799</td>\n",
       "      <td>1.850000</td>\n",
       "    </tr>\n",
       "    <tr>\n",
       "      <th>105</th>\n",
       "      <td>1727.5400</td>\n",
       "      <td>4881.994214</td>\n",
       "      <td>3154.454214</td>\n",
       "      <td>1.825980</td>\n",
       "    </tr>\n",
       "    <tr>\n",
       "      <th>22</th>\n",
       "      <td>1256.2990</td>\n",
       "      <td>3468.227655</td>\n",
       "      <td>2211.928655</td>\n",
       "      <td>1.760671</td>\n",
       "    </tr>\n",
       "    <tr>\n",
       "      <th>51</th>\n",
       "      <td>1719.4363</td>\n",
       "      <td>4622.027091</td>\n",
       "      <td>2902.590791</td>\n",
       "      <td>1.688106</td>\n",
       "    </tr>\n",
       "    <tr>\n",
       "      <th>80</th>\n",
       "      <td>1391.5287</td>\n",
       "      <td>3574.002212</td>\n",
       "      <td>2182.473512</td>\n",
       "      <td>1.568400</td>\n",
       "    </tr>\n",
       "    <tr>\n",
       "      <th>129</th>\n",
       "      <td>1837.2819</td>\n",
       "      <td>4683.528697</td>\n",
       "      <td>2846.246797</td>\n",
       "      <td>1.549162</td>\n",
       "    </tr>\n",
       "    <tr>\n",
       "      <th>230</th>\n",
       "      <td>1534.3045</td>\n",
       "      <td>3761.622248</td>\n",
       "      <td>2227.317748</td>\n",
       "      <td>1.451679</td>\n",
       "    </tr>\n",
       "    <tr>\n",
       "      <th>115</th>\n",
       "      <td>1980.0700</td>\n",
       "      <td>4643.192175</td>\n",
       "      <td>2663.122175</td>\n",
       "      <td>1.344964</td>\n",
       "    </tr>\n",
       "    <tr>\n",
       "      <th>123</th>\n",
       "      <td>1986.9334</td>\n",
       "      <td>4607.515269</td>\n",
       "      <td>2620.581869</td>\n",
       "      <td>1.318908</td>\n",
       "    </tr>\n",
       "  </tbody>\n",
       "</table>\n",
       "</div>"
      ],
      "text/plain": [
       "        y_test       y_pred        error  pct_error\n",
       "29   1131.5066  3578.417849  2446.911249   2.162525\n",
       "152  1146.7966  3268.370399  2121.573799   1.850000\n",
       "105  1727.5400  4881.994214  3154.454214   1.825980\n",
       "22   1256.2990  3468.227655  2211.928655   1.760671\n",
       "51   1719.4363  4622.027091  2902.590791   1.688106\n",
       "80   1391.5287  3574.002212  2182.473512   1.568400\n",
       "129  1837.2819  4683.528697  2846.246797   1.549162\n",
       "230  1534.3045  3761.622248  2227.317748   1.451679\n",
       "115  1980.0700  4643.192175  2663.122175   1.344964\n",
       "123  1986.9334  4607.515269  2620.581869   1.318908"
      ]
     },
     "execution_count": 106,
     "metadata": {},
     "output_type": "execute_result"
    }
   ],
   "source": [
    "df_errors = pd.DataFrame(zip(y_test, y_pred, np.abs(y_test - y_pred)), columns = ['y_test', 'y_pred', 'error'])\n",
    "df_errors['pct_error'] = df_errors['error'] / df_errors['y_test']\n",
    "df_errors.nlargest(10, 'pct_error')"
   ]
  },
  {
   "cell_type": "code",
   "execution_count": 107,
   "metadata": {},
   "outputs": [
    {
     "data": {
      "image/png": "[encoded data removed]",
      "text/plain": [
       "<Figure size 1000x500 with 1 Axes>"
      ]
     },
     "metadata": {},
     "output_type": "display_data"
    }
   ],
   "source": [
    "def plot_error_distribution(error):\n",
    "    plt.figure(figsize=(10, 5))\n",
    "    sns.histplot(error, bins=50)\n",
    "    plt.xlabel('Erro')\n",
    "    plt.ylabel('Frequência')\n",
    "    plt.title('Distribuição do Erro')\n",
    "    plt.show()\n",
    "    \n",
    "plot_error_distribution(df_errors['error'])"
   ]
  },
  {
   "cell_type": "markdown",
   "metadata": {},
   "source": [
    "Análise do gráfico de erros\n",
    "\n",
    "- "
   ]
  },
  {
   "cell_type": "markdown",
   "metadata": {},
   "source": [
    "#### Salvando o modelo\n",
    "\n",
    "Para usar em produção, podemos salvar o modelo como tipo \"pickle\" para ser reutilizado para realizar predições"
   ]
  },
  {
   "cell_type": "code",
   "execution_count": 109,
   "metadata": {},
   "outputs": [],
   "source": [
    "with open('dados/pipeline_model.pkl', 'wb') as arquivo:\n",
    "    pickle.dump(pipeline, arquivo)"
   ]
  },
  {
   "cell_type": "code",
   "execution_count": null,
   "metadata": {},
   "outputs": [],
   "source": []
  }
 ],
 "metadata": {
  "kernelspec": {
   "display_name": ".venv",
   "language": "python",
   "name": "python3"
  },
  "language_info": {
   "codemirror_mode": {
    "name": "ipython",
    "version": 3
   },
   "file_extension": ".py",
   "mimetype": "text/x-python",
   "name": "python",
   "nbconvert_exporter": "python",
   "pygments_lexer": "ipython3",
   "version": "3.12.0"
  }
 },
 "nbformat": 4,
 "nbformat_minor": 2
}
