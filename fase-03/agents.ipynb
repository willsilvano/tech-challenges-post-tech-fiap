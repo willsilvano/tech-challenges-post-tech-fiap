{
 "cells": [
  {
   "cell_type": "markdown",
   "metadata": {},
   "source": [
    "Importação de bibliotecas"
   ]
  },
  {
   "cell_type": "code",
   "execution_count": 1,
   "metadata": {},
   "outputs": [
    {
     "name": "stderr",
     "output_type": "stream",
     "text": [
      "/home/will/study/tc-fiap/.venv/lib/python3.12/site-packages/IPython/core/interactiveshell.py:3577: LangChainDeprecationWarning: As of langchain-core 0.3.0, LangChain uses pydantic v2 internally. The langchain_core.pydantic_v1 module was a compatibility shim for pydantic v1, and should no longer be used. Please update the code to import from Pydantic directly.\n",
      "\n",
      "For example, replace imports like: `from langchain_core.pydantic_v1 import BaseModel`\n",
      "with: `from pydantic import BaseModel`\n",
      "or the v1 compatibility namespace if you are working in a code base that has not been fully upgraded to pydantic 2 yet. \tfrom pydantic.v1 import BaseModel\n",
      "\n",
      "  exec(code_obj, self.user_global_ns, self.user_ns)\n"
     ]
    }
   ],
   "source": [
    "from langchain_openai import ChatOpenAI\n",
    "from langchain_core.prompts import ChatPromptTemplate\n",
    "from langgraph.graph import StateGraph, END, START\n",
    "from langchain_core.pydantic_v1 import BaseModel\n",
    "from typing import Literal, Optional\n",
    "from IPython.display import display, Image"
   ]
  },
  {
   "cell_type": "markdown",
   "metadata": {},
   "source": [
    "Modelos de LLM utilizados"
   ]
  },
  {
   "cell_type": "code",
   "execution_count": 2,
   "metadata": {},
   "outputs": [],
   "source": [
    "# Modelos\n",
    "llm_decisor = ChatOpenAI(model=\"gemma-3-1b-it\", base_url=\"http://127.0.0.1:1234/v1\", api_key=\"123\", temperature=0.1)\n",
    "llm_descricao = ChatOpenAI(model=\"qwen2.5-7b-describe@q4_k_m\", base_url=\"http://127.0.0.1:1234/v1\", api_key=\"123\", temperature=0.5)\n",
    "llm_qa = ChatOpenAI(model=\"llama3.2-3b-perguntas\", base_url=\"http://127.0.0.1:1234/v1\", api_key=\"123\")"
   ]
  },
  {
   "cell_type": "markdown",
   "metadata": {},
   "source": [
    "Definição do Estado do Graph"
   ]
  },
  {
   "cell_type": "code",
   "execution_count": 3,
   "metadata": {},
   "outputs": [],
   "source": [
    "class Estado(BaseModel):\n",
    "    mensagem: str\n",
    "    acao: Optional[Literal['descrever', 'perguntar']] = None\n",
    "    contexto: Optional[str] = None"
   ]
  },
  {
   "cell_type": "markdown",
   "metadata": {},
   "source": [
    "Configuração dos nós do Grafo"
   ]
  },
  {
   "cell_type": "code",
   "execution_count": 4,
   "metadata": {},
   "outputs": [],
   "source": [
    "# Nó decisor\n",
    "def agente_decisor(state: Estado):\n",
    "    prompt = ChatPromptTemplate.from_template(\n",
    "        \"\"\"\n",
    "        Analise a mensagem do usuário abaixo:\n",
    "        '{mensagem}'\n",
    "\n",
    "        Se a mensagem for apenas o nome de um produto (ex.: \"Mouse Gamer\"), responda APENAS com 'descrever'.\n",
    "        Se for uma pergunta (ex.: \"O mouse gamer possui RGB?\"), responda APENAS com 'perguntar'.\n",
    "        \"\"\"\n",
    "    )\n",
    "    chain = prompt | llm_decisor\n",
    "    resposta = chain.invoke({\"mensagem\": state.mensagem}).content.lower().strip()\n",
    "    return {\"acao\": resposta}\n",
    "\n",
    "# Nó descrição\n",
    "def agente_descricao(state: Estado):\n",
    "    prompt = ChatPromptTemplate.from_template(\n",
    "        \"\"\"\n",
    "        Below is an instruction that describes a task, paired with an input that provides further context. Write a response that appropriately completes the request.\n",
    "\n",
    "        ### Instruction:\n",
    "        Given a product title, generate a detailed and persuasive description highlighting its key features and benefits.\n",
    "\n",
    "        ### Input:\n",
    "        {produto}\n",
    "\n",
    "        ### Response:\n",
    "\n",
    "        \"\"\")\n",
    "    chain = prompt | llm_descricao\n",
    "    resposta = chain.invoke({\"produto\": state.mensagem}).content\n",
    "    return {\"contexto\": resposta}\n",
    "\n",
    "# Nó RAG para perguntas\n",
    "def agente_pergunta(state: Estado):\n",
    "    prompt = ChatPromptTemplate.from_template(\n",
    "        \"\"\"\n",
    "        You are a chatbot that answers questions about products on a Market Store in Portuguese.\n",
    "\n",
    "        You are a strict assistant that only responds based on the provided context.\n",
    "\n",
    "        The context contains a title and a content of products on a Market Store.\n",
    "\n",
    "        If the context is empty you MUST reply with:\n",
    "        \"I couldn't found any relevant information.\"\n",
    "\n",
    "        If the context DOES NOT HAVE the product the user is looking for you MUST reply with:\n",
    "        \"Unfortunately we don't have this product.\"\n",
    "\n",
    "        Context:\n",
    "        {contexto}\n",
    "\n",
    "        Pergunta:\n",
    "        {pergunta}\n",
    "        \"\"\"\n",
    "    )\n",
    "    chain = prompt | llm_qa\n",
    "    resposta = chain.invoke({\"contexto\": state.contexto, \"pergunta\": state.mensagem}).content\n",
    "\n",
    "    return {\"contexto\": resposta}"
   ]
  },
  {
   "cell_type": "markdown",
   "metadata": {},
   "source": [
    "Construção do grafo"
   ]
  },
  {
   "cell_type": "code",
   "execution_count": 5,
   "metadata": {},
   "outputs": [
    {
     "data": {
      "image/png": "[encoded data removed]",
      "text/plain": [
       "<IPython.core.display.Image object>"
      ]
     },
     "metadata": {},
     "output_type": "display_data"
    }
   ],
   "source": [
    "workflow = StateGraph(Estado)\n",
    "\n",
    "workflow.add_node(\"decisor\", agente_decisor)\n",
    "workflow.add_node(\"descricao\", agente_descricao)\n",
    "workflow.add_node(\"pergunta\", agente_pergunta)\n",
    "\n",
    "# workflow.set_entry_point(\"decisor\")\n",
    "workflow.add_edge(START, \"decisor\")\n",
    "\n",
    "workflow.add_conditional_edges(\n",
    "    \"decisor\",\n",
    "    lambda state: state.acao,\n",
    "    {\"descrever\": \"descricao\", \"perguntar\": \"pergunta\"}\n",
    ")\n",
    "\n",
    "workflow.add_edge(\"descricao\", END)\n",
    "workflow.add_edge(\"pergunta\", END)\n",
    "\n",
    "# Compilação do grafo\n",
    "app = workflow.compile()\n",
    "\n",
    "display(Image(app.get_graph().draw_mermaid_png()))"
   ]
  },
  {
   "cell_type": "markdown",
   "metadata": {},
   "source": [
    "Simulações"
   ]
  },
  {
   "cell_type": "code",
   "execution_count": 7,
   "metadata": {},
   "outputs": [
    {
     "data": {
      "text/plain": [
       "{'mensagem': 'CISCO C100',\n",
       " 'acao': 'descrever',\n",
       " 'contexto': \"The Cisco C100 is an advanced networking device designed to simplify your network management while delivering exceptional performance. With its compact size and powerful capabilities, it's perfect for small businesses or home networks that require reliable connectivity without the complexity of larger systems.\\n\\n**Key Features:**\\n\\n- **Easy Setup:** The Cisco C100 comes with a user-friendly interface that makes setup quick and straightforward. No need to be an expert; anyone can configure this device in minutes.\\n  \\n- **High Performance:** Built on proven technology from Cisco, you get high-speed data transfer rates along with robust security features. Whether you're running multiple devices or streaming content, the C100 handles it all smoothly.\\n\\n- **Secure Connections:** Security is a top priority. The built-in firewall and VPN support ensure that your network remains protected against unauthorized access. Plus, there's no hassle of updating software; everything runs seamlessly on this device.\\n\\n- **Scalable Solutions:** As your needs grow, so does the C100’s ability to adapt. It supports various protocols and can easily integrate with other Cisco products for future expansion without additional hardware costs.\\n\\n- **Intuitive Management Tools:** The web-based management tool allows you to monitor traffic, adjust settings, and troubleshoot issues from anywhere at any time. No more worrying about being on site when something goes wrong!\\n\\n**Benefits:**\\n\\n- **Cost Effective:** Compared to traditional networking solutions, the Cisco C100 offers excellent value for money. You get high-end features without breaking the bank.\\n  \\n- **Future Ready:** This device is designed with future upgrades in mind. As technology evolves, you can rest assured that your investment won't become obsolete quickly.\\n\\n- **Enhanced Productivity:** With faster speeds and better security, employees spend less time waiting for files to load or dealing with cyber threats. That means more work gets done efficiently!\\n\\nDon’t let technical jargon scare you away from improving your network performance. The Cisco C100 is here to make managing your connections easy peasy lemon squeezy! Upgrade today and experience the difference firsthand!\"}"
      ]
     },
     "execution_count": 7,
     "metadata": {},
     "output_type": "execute_result"
    }
   ],
   "source": [
    "app.invoke({\"mensagem\": \"CISCO C100\"})"
   ]
  },
  {
   "cell_type": "code",
   "execution_count": 8,
   "metadata": {},
   "outputs": [
    {
     "data": {
      "text/plain": [
       "{'mensagem': 'Porque o Mouse Gamer Razer é bom?',\n",
       " 'acao': 'perguntar',\n",
       " 'contexto': 'Ah, o Mouse Gamer Razer é super popular por ter uma boa qualidade de imagem com 16.000 pixels! Ele também tem um sensor que captura movimentos precisos e tem até 35.000 CPI de resolução. Se você quer se jogar no auge do seu gaming, esse mouse é imperdível! Não perde tempo e garante o seu agora!'}"
      ]
     },
     "execution_count": 8,
     "metadata": {},
     "output_type": "execute_result"
    }
   ],
   "source": [
    "app.invoke({\"mensagem\": \"Porque o Mouse Gamer Razer é bom?\", \"contexto\": \"Title: Mouse Gamer Razer\\nContent: O Mouse Gamer Razer é um dos melhores mouses gamers do mercado.\"})"
   ]
  }
 ],
 "metadata": {
  "kernelspec": {
   "display_name": ".venv",
   "language": "python",
   "name": "python3"
  },
  "language_info": {
   "codemirror_mode": {
    "name": "ipython",
    "version": 3
   },
   "file_extension": ".py",
   "mimetype": "text/x-python",
   "name": "python",
   "nbconvert_exporter": "python",
   "pygments_lexer": "ipython3",
   "version": "3.12.7"
  }
 },
 "nbformat": 4,
 "nbformat_minor": 2
}
